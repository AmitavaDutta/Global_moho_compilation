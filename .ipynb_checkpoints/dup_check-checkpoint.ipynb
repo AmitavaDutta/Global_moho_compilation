{
 "cells": [
  {
   "cell_type": "code",
   "execution_count": 4,
   "id": "1fd06f16-8917-427a-8c9e-3d5a79af9114",
   "metadata": {},
   "outputs": [
    {
     "name": "stdout",
     "output_type": "stream",
     "text": [
      "<xarray.Dataset> Size: 3MB\n",
      "Dimensions:        (index: 92346)\n",
      "Coordinates:\n",
      "  * index          (index) int64 739kB 0 1 2 3 4 ... 92342 92343 92344 92345\n",
      "Data variables:\n",
      "    latitude       (index) float64 739kB ...\n",
      "    longitude      (index) float64 739kB ...\n",
      "    weighted_moho  (index) float64 739kB ...\n",
      "<xarray.DataArray 'weighted_moho' (index: 92346)> Size: 739kB\n",
      "[92346 values with dtype=float64]\n",
      "Coordinates:\n",
      "  * index    (index) int64 739kB 0 1 2 3 4 5 ... 92341 92342 92343 92344 92345\n",
      "       index  latitude  longitude  weighted_moho\n",
      "0          0     36.43      94.87      49.500000\n",
      "1          1     36.43      94.87      48.000000\n",
      "2          2     36.81      92.95      49.000000\n",
      "3          3     37.02      91.74      57.000000\n",
      "4          4     32.25      91.70      74.000000\n",
      "...      ...       ...        ...            ...\n",
      "92341  92341    -89.50     175.50      35.096589\n",
      "92342  92342    -89.50     176.50      35.094330\n",
      "92343  92343    -89.50     177.50      35.091988\n",
      "92344  92344    -89.50     178.50      35.089563\n",
      "92345  92345    -89.50     179.50      35.087053\n",
      "\n",
      "[92346 rows x 4 columns]\n"
     ]
    }
   ],
   "source": [
    "import xarray as xr\n",
    "\n",
    "# Open the NetCDF file\n",
    "ds = xr.open_dataset(\"weighted_moho.nc\")\n",
    "\n",
    "# Print contents\n",
    "print(ds)\n",
    "\n",
    "# Access variables\n",
    "print(ds['weighted_moho'])\n",
    "\n",
    "# Convert to pandas DataFrame if needed\n",
    "df = ds.to_dataframe().reset_index()\n",
    "print(df)"
   ]
  },
  {
   "cell_type": "code",
   "execution_count": null,
   "id": "68a7dbd4-c9b1-4efd-8507-36dc729c51e7",
   "metadata": {},
   "outputs": [],
   "source": [
    "import pandas as pd\n",
    "import os\n",
    "\n",
    "# File path\n",
    "path_to_data_file_dup = r\"D:\\Amitava\\Projects\\Spline_Moho\\Global_moho_compilation\\Global_crust.csv\"\n",
    "\n",
    "# Load only required columns while ignoring commented lines\n",
    "data_eq_raw_dup = pd.read_csv(path_to_data_file_dup, comment='#')\n",
    "\n",
    "# Convert Moho_km to numeric, forcing non-numeric values to NaN\n",
    "data_eq_raw_dup[\"Moho_km\"] = pd.to_numeric(data_eq_raw_dup[\"Moho_km\"], errors=\"coerce\")\n",
    "\n",
    "# Drop rows with NaN values in Moho_km\n",
    "data_eq_all_dup = data_eq_raw_dup.dropna(subset=[\"Moho_km\"]).reset_index(drop=True)\n",
    "\n",
    "# Check for duplicate (Lat, Long, Moho_km) groups\n",
    "duplicate_mask_dup = data_eq_all_dup.duplicated(subset=[\"Lat\", \"Long\", \"Moho_km\"], keep=False)\n",
    "\n",
    "# Count duplicate entries\n",
    "num_duplicates_dup = duplicate_mask_dup.sum()\n",
    "# Count unique groups that are duplicated\n",
    "num_repeated_groups_dup = data_eq_all_dup.loc[duplicate_mask_dup, [\"Lat\", \"Long\", \"Moho_km\"]].drop_duplicates().shape[0]\n",
    "\n",
    "print(f\"Total number of repeated (Lat, Long, Moho_km) rows: {num_duplicates_dup}\")\n",
    "print(f\"Number of unique (Lat, Long, Moho_km) groups that are repeated: {num_repeated_groups_dup}\")\n",
    "\n",
    "# Keep only the first occurrence of each duplicate group\n",
    "data_eq_dup = data_eq_all_dup.drop_duplicates(subset=[\"Lat\", \"Long\", \"Moho_km\"], keep=\"first\").reset_index(drop=True)\n",
    "\n",
    "# Identify repeated (Lat, Long) pairs (ignore Moho_km here)\n",
    "duplicated_latlong_mask = data_eq_dup.duplicated(subset=[\"Lat\", \"Long\"], keep=False)\n",
    "\n",
    "# Filter rows with repeated (Lat, Long) pairs\n",
    "repeated_pairs_df = data_eq_dup[duplicated_latlong_mask]\n",
    "\n",
    "# Group by the (Lat, Long) pairs\n",
    "grouped = repeated_pairs_df.groupby([\"Lat\", \"Long\"])\n",
    "\n",
    "# Prepare output directory and file path\n",
    "output_dir = r\"D:\\Amitava\\Projects\\Spline_Moho\\repeat\"\n",
    "os.makedirs(output_dir, exist_ok=True)\n",
    "output_path = os.path.join(output_dir, \"repeat.csv\")\n",
    "\n",
    "# Write to CSV with one row gap between repeated pairs\n",
    "with open(output_path, \"w\", newline='', encoding=\"utf-8\") as f:\n",
    "    for i, (_, group) in enumerate(grouped):\n",
    "        # Write header only for the first group\n",
    "        group.to_csv(f, index=False, header=(i == 0))\n",
    "        f.write(\"\\n\")  # Add a blank line between groups\n"
   ]
  }
 ],
 "metadata": {
  "kernelspec": {
   "display_name": "Python 3 (ipykernel)",
   "language": "python",
   "name": "python3"
  },
  "language_info": {
   "codemirror_mode": {
    "name": "ipython",
    "version": 3
   },
   "file_extension": ".py",
   "mimetype": "text/x-python",
   "name": "python",
   "nbconvert_exporter": "python",
   "pygments_lexer": "ipython3",
   "version": "3.13.2"
  }
 },
 "nbformat": 4,
 "nbformat_minor": 5
}
